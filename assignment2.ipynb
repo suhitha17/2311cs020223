{
 "cells": [
  {
   "cell_type": "code",
   "execution_count": 2,
   "id": "bb9d5f4a-ccc3-401e-bc5a-808bdf9e3252",
   "metadata": {},
   "outputs": [
    {
     "name": "stdout",
     "output_type": "stream",
     "text": [
      "10\n",
      "30\n",
      "50\n",
      "apple\n",
      "banana\n",
      "True\n",
      "John\n",
      "25\n",
      "New York\n"
     ]
    }
   ],
   "source": [
    "my_list = [10, 20, 30, 40, 50]\n",
    "print(my_list[0])  \n",
    "print(my_list[2])  \n",
    "print(my_list[-1]) \n",
    "my_tuple = (1, \"apple\", 3.14, True, \"banana\")\n",
    "print(my_tuple[1]) \n",
    "print(my_tuple[4])  \n",
    "print(my_tuple[-2]) \n",
    "\n",
    "\n",
    "my_dict = {\"name\": \"John\", \"age\": 25, \"city\": \"New York\", \"job\": \"Engineer\", \"country\": \"USA\"}\n",
    "print(my_dict[\"name\"])  \n",
    "print(my_dict[\"age\"])  \n",
    "print(my_dict[\"city\"])  "
   ]
  },
  {
   "cell_type": "code",
   "execution_count": null,
   "id": "09f4fa55-12bd-44a8-b957-7568ede6ab60",
   "metadata": {},
   "outputs": [],
   "source": []
  }
 ],
 "metadata": {
  "kernelspec": {
   "display_name": "Python [conda env:base] *",
   "language": "python",
   "name": "conda-base-py"
  },
  "language_info": {
   "codemirror_mode": {
    "name": "ipython",
    "version": 3
   },
   "file_extension": ".py",
   "mimetype": "text/x-python",
   "name": "python",
   "nbconvert_exporter": "python",
   "pygments_lexer": "ipython3",
   "version": "3.12.7"
  }
 },
 "nbformat": 4,
 "nbformat_minor": 5
}
