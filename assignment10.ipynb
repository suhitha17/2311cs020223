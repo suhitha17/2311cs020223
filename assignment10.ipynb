{
 "cells": [
  {
   "cell_type": "code",
   "execution_count": 1,
   "id": "be4bf32e-f813-4c03-8bf3-b25385cb3203",
   "metadata": {},
   "outputs": [
    {
     "name": "stdout",
     "output_type": "stream",
     "text": [
      "          Date       Account_Type    Branch Transaction_Type  \\\n",
      "2   2023-01-10            Current    Uptown     Loan Payment   \n",
      "4   2023-01-14  Recurring Deposit  Suburban     Loan Payment   \n",
      "5   2023-01-06            Current  Suburban   Service Charge   \n",
      "7   2023-01-09            Current   Central     Loan Payment   \n",
      "8   2023-01-20  Recurring Deposit  Downtown   Service Charge   \n",
      "13  2023-01-05  Recurring Deposit   Central     Loan Payment   \n",
      "14  2023-01-01      Fixed Deposit  Downtown       Withdrawal   \n",
      "15  2023-01-03            Savings  Suburban   Service Charge   \n",
      "16  2023-01-02      Fixed Deposit   Central          Deposit   \n",
      "17  2023-01-07            Current   Central     Loan Payment   \n",
      "19  2023-01-17            Savings   Central          Deposit   \n",
      "\n",
      "    Transaction_Amount  Account_Balance  \n",
      "2              3363.85         12428.67  \n",
      "4              2788.57          4779.04  \n",
      "5              4584.05          7635.47  \n",
      "7              2346.72         10708.85  \n",
      "8              3899.98         12646.56  \n",
      "13             4683.64          6762.43  \n",
      "14             4136.54          8175.08  \n",
      "15             3350.32         12836.51  \n",
      "16             4421.57          8330.40  \n",
      "17             4116.52          9785.64  \n",
      "19             4516.52          8789.19  \n",
      "          Date       Account_Type   Branch Transaction_Type  \\\n",
      "0   2023-01-19      Fixed Deposit  Central     Loan Payment   \n",
      "2   2023-01-10            Current   Uptown     Loan Payment   \n",
      "3   2023-01-18            Savings   Uptown     Loan Payment   \n",
      "7   2023-01-09            Current  Central     Loan Payment   \n",
      "13  2023-01-05  Recurring Deposit  Central     Loan Payment   \n",
      "17  2023-01-07            Current  Central     Loan Payment   \n",
      "\n",
      "    Transaction_Amount  Account_Balance  \n",
      "0               985.51          6839.59  \n",
      "2              3363.85         12428.67  \n",
      "3              1914.60          5776.63  \n",
      "7              2346.72         10708.85  \n",
      "13             4683.64          6762.43  \n",
      "17             4116.52          9785.64  \n",
      "          Date   Account_Type  Branch Transaction_Type  Transaction_Amount  \\\n",
      "1   2023-01-16        Current  Uptown       Withdrawal              641.43   \n",
      "2   2023-01-10        Current  Uptown     Loan Payment             3363.85   \n",
      "3   2023-01-18        Savings  Uptown     Loan Payment             1914.60   \n",
      "12  2023-01-15  Fixed Deposit  Uptown   Service Charge             1225.50   \n",
      "\n",
      "    Account_Balance  \n",
      "1           8908.39  \n",
      "2          12428.67  \n",
      "3           5776.63  \n",
      "12          4224.47  \n"
     ]
    }
   ],
   "source": [
    "#filtering data based on conditions\n",
    "import pandas as pd\n",
    "\n",
    "df = pd.read_csv('banking_data.csv')\n",
    "\n",
    "print(df[df['Transaction_Amount'] > 2000])\n",
    "\n",
    "print(df[(df['Transaction_Type'] == 'Loan Payment') & (df['Account_Balance'] > 5000)])\n",
    "\n",
    "print(df[df['Branch'] == 'Uptown'])"
   ]
  },
  {
   "cell_type": "code",
   "execution_count": 3,
   "id": "486ed8dc-e255-4178-bca1-f67aadf86a71",
   "metadata": {},
   "outputs": [
    {
     "name": "stdout",
     "output_type": "stream",
     "text": [
      "          Date       Account_Type    Branch Transaction_Type  \\\n",
      "0   2023-01-19      Fixed Deposit   Central     Loan Payment   \n",
      "1   2023-01-16            Current    Uptown       Withdrawal   \n",
      "2   2023-01-10            Current    Uptown     Loan Payment   \n",
      "3   2023-01-18            Savings    Uptown     Loan Payment   \n",
      "4   2023-01-14  Recurring Deposit  Suburban     Loan Payment   \n",
      "5   2023-01-06            Current  Suburban   Service Charge   \n",
      "6   2023-01-04  Recurring Deposit   Central   Service Charge   \n",
      "7   2023-01-09            Current   Central     Loan Payment   \n",
      "8   2023-01-20  Recurring Deposit  Downtown   Service Charge   \n",
      "9   2023-01-11      Fixed Deposit  Downtown          Deposit   \n",
      "10  2023-01-13  Recurring Deposit   Central          Deposit   \n",
      "11  2023-01-08      Fixed Deposit  Suburban   Service Charge   \n",
      "12  2023-01-15      Fixed Deposit    Uptown   Service Charge   \n",
      "13  2023-01-05  Recurring Deposit   Central     Loan Payment   \n",
      "14  2023-01-01      Fixed Deposit  Downtown       Withdrawal   \n",
      "15  2023-01-03            Savings  Suburban   Service Charge   \n",
      "16  2023-01-02      Fixed Deposit   Central          Deposit   \n",
      "17  2023-01-07            Current   Central     Loan Payment   \n",
      "18  2023-01-12  Recurring Deposit  Suburban   Service Charge   \n",
      "19  2023-01-17            Savings   Central          Deposit   \n",
      "\n",
      "    Transaction_Amount  Account_Balance  Transaction_Fee Balance_Status  \n",
      "0               985.51          6839.59          19.7102   High Balance  \n",
      "1               641.43          8908.39          12.8286   High Balance  \n",
      "2              3363.85         12428.67          67.2770   High Balance  \n",
      "3              1914.60          5776.63          38.2920   High Balance  \n",
      "4              2788.57          4779.04          55.7714    Low Balance  \n",
      "5              4584.05          7635.47          91.6810   High Balance  \n",
      "6              1621.82          6465.79          32.4364   High Balance  \n",
      "7              2346.72         10708.85          46.9344   High Balance  \n",
      "8              3899.98         12646.56          77.9996   High Balance  \n",
      "9              1529.59          2592.16          30.5918    Low Balance  \n",
      "10              846.41          6443.14          16.9282   High Balance  \n",
      "11             1803.88          6560.58          36.0776   High Balance  \n",
      "12             1225.50          4224.47          24.5100    Low Balance  \n",
      "13             4683.64          6762.43          93.6728   High Balance  \n",
      "14             4136.54          8175.08          82.7308   High Balance  \n",
      "15             3350.32         12836.51          67.0064   High Balance  \n",
      "16             4421.57          8330.40          88.4314   High Balance  \n",
      "17             4116.52          9785.64          82.3304   High Balance  \n",
      "18             1339.57          8666.74          26.7914   High Balance  \n",
      "19             4516.52          8789.19          90.3304   High Balance  \n"
     ]
    }
   ],
   "source": [
    "# data transformation\n",
    "\n",
    "import pandas as pd\n",
    "df = pd.read_csv('banking_data.csv')\n",
    "\n",
    "df['Transaction_Fee'] = df['Transaction_Amount'] * 0.02\n",
    "\n",
    "df['Balance_Status'] = ['High Balance' if x > 5000 else 'Low Balance' for x in df['Account_Balance']]\n",
    "\n",
    "print(df)"
   ]
  },
  {
   "cell_type": "code",
   "execution_count": null,
   "id": "475e5f8b-a5be-4a80-865a-8ecf8f26750d",
   "metadata": {},
   "outputs": [],
   "source": []
  }
 ],
 "metadata": {
  "kernelspec": {
   "display_name": "Python [conda env:base] *",
   "language": "python",
   "name": "conda-base-py"
  },
  "language_info": {
   "codemirror_mode": {
    "name": "ipython",
    "version": 3
   },
   "file_extension": ".py",
   "mimetype": "text/x-python",
   "name": "python",
   "nbconvert_exporter": "python",
   "pygments_lexer": "ipython3",
   "version": "3.12.7"
  }
 },
 "nbformat": 4,
 "nbformat_minor": 5
}
