{
 "cells": [
  {
   "cell_type": "code",
   "execution_count": 1,
   "id": "82c7f720-d062-45b8-ba5f-07a90ebf0f97",
   "metadata": {},
   "outputs": [
    {
     "name": "stdout",
     "output_type": "stream",
     "text": [
      "First 5 rows of the dataset:\n",
      "         Date       Account_Type    Branch Transaction_Type  \\\n",
      "0  2023-01-19      Fixed Deposit   Central     Loan Payment   \n",
      "1  2023-01-16            Current    Uptown       Withdrawal   \n",
      "2  2023-01-10            Current    Uptown     Loan Payment   \n",
      "3  2023-01-18            Savings    Uptown     Loan Payment   \n",
      "4  2023-01-14  Recurring Deposit  Suburban     Loan Payment   \n",
      "\n",
      "   Transaction_Amount  Account_Balance  \n",
      "0              985.51          6839.59  \n",
      "1              641.43          8908.39  \n",
      "2             3363.85         12428.67  \n",
      "3             1914.60          5776.63  \n",
      "4             2788.57          4779.04  \n",
      "\n",
      "Basic statistics of numerical columns:\n",
      "       Transaction_Amount  Account_Balance\n",
      "count           20.000000        20.000000\n",
      "mean          2705.829500      7967.766500\n",
      "std           1429.829787      2770.248821\n",
      "min            641.430000      2592.160000\n",
      "25%           1482.085000      6460.127500\n",
      "50%           2567.645000      7905.275000\n",
      "75%           4121.525000      9127.702500\n",
      "max           4683.640000     12836.510000\n",
      "\n",
      "Missing values in the dataset:\n",
      "Date                  0\n",
      "Account_Type          0\n",
      "Branch                0\n",
      "Transaction_Type      0\n",
      "Transaction_Amount    0\n",
      "Account_Balance       0\n",
      "dtype: int64\n"
     ]
    }
   ],
   "source": [
    "import pandas as pd\n",
    "\n",
    "df = pd.read_csv('banking_data.csv')\n",
    "\n",
    "print(\"First 5 rows of the dataset:\")\n",
    "print(df.head())\n",
    "\n",
    "print(\"\\nBasic statistics of numerical columns:\")\n",
    "print(df.describe())\n",
    "\n",
    "print(\"\\nMissing values in the dataset:\")\n",
    "print(df.isnull().sum())"
   ]
  },
  {
   "cell_type": "code",
   "execution_count": 3,
   "id": "f512564c-0d68-4ce3-aaa3-d4896d19171d",
   "metadata": {},
   "outputs": [
    {
     "name": "stdout",
     "output_type": "stream",
     "text": [
      "Aggregated data by Account_Type:\n",
      "                   Total_Transaction_Amount  Average_Account_Balance\n",
      "Account_Type                                                        \n",
      "Current                            15052.57              9893.404000\n",
      "Fixed Deposit                      14102.59              6120.380000\n",
      "Recurring Deposit                  15179.99              7627.283333\n",
      "Savings                             9781.44              9134.110000\n",
      "\n",
      "Aggregated data by Branch:\n",
      "          Total_Transactions  Average_Transaction_Amount\n",
      "Branch                                                  \n",
      "Central                    8                 2942.338750\n",
      "Downtown                   3                 3188.703333\n",
      "Suburban                   5                 2773.278000\n",
      "Uptown                     4                 1786.345000\n"
     ]
    }
   ],
   "source": [
    "#data aggregation and grouping\n",
    "import pandas as pd\n",
    "df = pd.read_csv('banking_data.csv')\n",
    "\n",
    "account_type_group = df.groupby('Account_Type').agg(\n",
    "    Total_Transaction_Amount=('Transaction_Amount', 'sum'),\n",
    "    Average_Account_Balance=('Account_Balance', 'mean')\n",
    ")\n",
    "\n",
    "branch_group = df.groupby('Branch').agg(\n",
    "    Total_Transactions=('Transaction_Amount', 'count'),\n",
    "    Average_Transaction_Amount=('Transaction_Amount', 'mean')\n",
    ")\n",
    "\n",
    "print(\"Aggregated data by Account_Type:\")\n",
    "print(account_type_group)\n",
    "\n",
    "print(\"\\nAggregated data by Branch:\")\n",
    "print(branch_group)"
   ]
  },
  {
   "cell_type": "code",
   "execution_count": null,
   "id": "61ed3d96-46f4-41cf-bb17-3eed58d45113",
   "metadata": {},
   "outputs": [],
   "source": []
  }
 ],
 "metadata": {
  "kernelspec": {
   "display_name": "Python [conda env:base] *",
   "language": "python",
   "name": "conda-base-py"
  },
  "language_info": {
   "codemirror_mode": {
    "name": "ipython",
    "version": 3
   },
   "file_extension": ".py",
   "mimetype": "text/x-python",
   "name": "python",
   "nbconvert_exporter": "python",
   "pygments_lexer": "ipython3",
   "version": "3.12.7"
  }
 },
 "nbformat": 4,
 "nbformat_minor": 5
}
