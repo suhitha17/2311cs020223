{
 "cells": [
  {
   "cell_type": "code",
   "execution_count": 1,
   "id": "43c2305b-6d5a-4d86-8d54-d0771692f07d",
   "metadata": {},
   "outputs": [
    {
     "name": "stdout",
     "output_type": "stream",
     "text": [
      "Rows where sales are greater than 1000:\n",
      "          Date     Product Region    Sales  Profit  Quantity\n",
      "0   2023-01-02      Tablet   East  1061.81  236.12         7\n",
      "1   2023-01-06      Laptop  North  1926.07  246.34         8\n",
      "2   2023-01-03      Tablet   East  1597.99  253.17         3\n",
      "3   2023-01-20      Tablet  North  1397.99  242.23         1\n",
      "7   2023-01-07  Smartphone   East  1799.26  364.97         4\n",
      "8   2023-01-11  Smartphone   West  1401.67  306.24         2\n",
      "9   2023-01-01      Laptop  North  1562.11  170.72         6\n",
      "11  2023-01-12      Laptop   West  1954.86  262.16         4\n",
      "12  2023-01-09     Monitor  North  1748.66  197.62         6\n",
      "17  2023-01-18     Monitor   West  1287.13  153.86         7\n",
      "18  2023-01-13      Tablet   West  1147.92  271.88         9\n",
      "\n",
      "Sales records for the 'East' region:\n",
      "          Date     Product Region    Sales  Profit  Quantity\n",
      "0   2023-01-02      Tablet   East  1061.81  236.12         7\n",
      "2   2023-01-03      Tablet   East  1597.99  253.17         3\n",
      "6   2023-01-14    Keyboard   East   587.13   82.16         8\n",
      "7   2023-01-07  Smartphone   East  1799.26  364.97         4\n",
      "14  2023-01-08      Laptop   East   772.74  226.51         2\n"
     ]
    }
   ],
   "source": [
    "#DAta filtering\n",
    "import pandas as pd\n",
    "df = pd.read_csv('sales_data.csv')\n",
    "\n",
    "print(\"Rows where sales are greater than 1000:\")\n",
    "print(df[df['Sales'] > 1000])\n",
    "\n",
    "\n",
    "print(\"\\nSales records for the 'East' region:\")\n",
    "print(df[df['Region'] == 'East'])"
   ]
  },
  {
   "cell_type": "code",
   "execution_count": 3,
   "id": "8973ac73-51a2-43bf-baa6-f40b916ca70e",
   "metadata": {},
   "outputs": [
    {
     "name": "stdout",
     "output_type": "stream",
     "text": [
      "          Date     Product Region    Sales  Profit  Quantity  Profit_Per_Unit  \\\n",
      "0   2023-01-02      Tablet   East  1061.81  236.12         7        33.731429   \n",
      "1   2023-01-06      Laptop  North  1926.07  246.34         8        30.792500   \n",
      "2   2023-01-03      Tablet   East  1597.99  253.17         3        84.390000   \n",
      "3   2023-01-20      Tablet  North  1397.99  242.23         1       242.230000   \n",
      "4   2023-01-04      Laptop   West   734.03  140.36         4        35.090000   \n",
      "5   2023-01-17      Tablet  North   733.99  188.66         2        94.330000   \n",
      "6   2023-01-14    Keyboard   East   587.13   82.16         8        10.270000   \n",
      "7   2023-01-07  Smartphone   East  1799.26  364.97         4        91.242500   \n",
      "8   2023-01-11  Smartphone   West  1401.67  306.24         2       153.120000   \n",
      "9   2023-01-01      Laptop  North  1562.11  170.72         6        28.453333   \n",
      "10  2023-01-19     Monitor  North   530.88  117.59         6        19.598333   \n",
      "11  2023-01-12      Laptop   West  1954.86  262.16         4        65.540000   \n",
      "12  2023-01-09     Monitor  North  1748.66  197.62         6        32.936667   \n",
      "13  2023-01-10  Smartphone  North   818.51  237.19         2       118.595000   \n",
      "14  2023-01-08      Laptop   East   772.74  226.51         2       113.255000   \n",
      "15  2023-01-05    Keyboard  North   775.11  202.83         4        50.707500   \n",
      "16  2023-01-15      Tablet  North   956.36  153.90         8        19.237500   \n",
      "17  2023-01-18     Monitor   West  1287.13  153.86         7        21.980000   \n",
      "18  2023-01-13      Tablet   West  1147.92  271.88         9        30.208889   \n",
      "19  2023-01-16      Tablet  South   936.84  176.15         8        22.018750   \n",
      "\n",
      "   High_Sales  \n",
      "0         Yes  \n",
      "1         Yes  \n",
      "2         Yes  \n",
      "3         Yes  \n",
      "4          No  \n",
      "5          No  \n",
      "6          No  \n",
      "7         Yes  \n",
      "8         Yes  \n",
      "9         Yes  \n",
      "10         No  \n",
      "11        Yes  \n",
      "12        Yes  \n",
      "13         No  \n",
      "14         No  \n",
      "15         No  \n",
      "16         No  \n",
      "17        Yes  \n",
      "18        Yes  \n",
      "19         No  \n"
     ]
    }
   ],
   "source": [
    "import pandas as pd\n",
    "\n",
    "df = pd.read_csv('sales_data.csv')\n",
    "\n",
    "df['Profit_Per_Unit'] = df['Profit'] / df['Quantity']\n",
    "\n",
    "\n",
    "df['High_Sales'] = df['Sales'].apply(lambda x: 'Yes' if x > 1000 else 'No')\n",
    "\n",
    "print(df)"
   ]
  },
  {
   "cell_type": "code",
   "execution_count": null,
   "id": "6c90769f-68be-452b-84c9-2c9e6e7f9f72",
   "metadata": {},
   "outputs": [],
   "source": []
  }
 ],
 "metadata": {
  "kernelspec": {
   "display_name": "Python [conda env:base] *",
   "language": "python",
   "name": "conda-base-py"
  },
  "language_info": {
   "codemirror_mode": {
    "name": "ipython",
    "version": 3
   },
   "file_extension": ".py",
   "mimetype": "text/x-python",
   "name": "python",
   "nbconvert_exporter": "python",
   "pygments_lexer": "ipython3",
   "version": "3.12.7"
  }
 },
 "nbformat": 4,
 "nbformat_minor": 5
}
